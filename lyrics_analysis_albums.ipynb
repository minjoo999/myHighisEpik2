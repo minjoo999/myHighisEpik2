{
 "cells": [
  {
   "attachments": {},
   "cell_type": "markdown",
   "metadata": {},
   "source": [
    "# 패키지, 파일 불러오기"
   ]
  },
  {
   "cell_type": "code",
   "execution_count": null,
   "metadata": {},
   "outputs": [],
   "source": [
    "import numpy as np\n",
    "import pandas as pd\n",
    "from konlpy.tag import Okt\n",
    "import collections"
   ]
  },
  {
   "cell_type": "code",
   "execution_count": null,
   "metadata": {},
   "outputs": [],
   "source": [
    "df = pd.read_csv('tracks_final.csv')"
   ]
  },
  {
   "attachments": {},
   "cell_type": "markdown",
   "metadata": {},
   "source": [
    "# 앨범별 분리"
   ]
  },
  {
   "cell_type": "code",
   "execution_count": null,
   "metadata": {},
   "outputs": [],
   "source": [
    "df1 = df[(df['앨범'] == 'Map Of The Human Soul')]\n",
    "df2 = df[(df['앨범'] == 'High Society')]\n",
    "df3 = df[(df['앨범'] == 'Swan Songs')]\n",
    "df4 = df[(df['앨범'] == 'Remapping The Human Soul')]\n",
    "df5 = df[(df['앨범'] == 'Pieces, Part One')]\n",
    "df6 = df[(df['앨범'] == '(e)')]\n",
    "df7 = df[(df['앨범'] == '99 (Epik High 7집)')]\n",
    "df8 = df[(df['앨범'] == '신발장')]\n",
    "df9 = df[(df['앨범'] == \"WE'VE DONE SOMETHING WONDERFUL\")]\n",
    "df10_1 = df[(df['앨범'] == \"Epik High Is Here 上\")]\n",
    "df10_2 = df[(df['앨범'] == \"Epik High Is Here 下\")]"
   ]
  },
  {
   "cell_type": "code",
   "execution_count": null,
   "metadata": {},
   "outputs": [],
   "source": [
    "df3_1 = df[(df['앨범'] == '에픽하이 3집 리패키지 - Black Swan Songs')]\n",
    "df5_1 = df[(df['앨범'] == 'Breakdown')]\n",
    "ep1 = df[(df['앨범'] == 'LOVESCREAM (소품집)')]\n",
    "ep2 = df[(df['앨범'] == '魂: Map The Soul')]\n",
    "ep3 = df[(df['앨범'] == 'Epilogue')]\n",
    "ep4 = df[(df['앨범'] == 'sleepless in __________')]"
   ]
  },
  {
   "attachments": {},
   "cell_type": "markdown",
   "metadata": {},
   "source": [
    "## 앨범 미수록 싱글 모음"
   ]
  },
  {
   "cell_type": "code",
   "execution_count": null,
   "metadata": {},
   "outputs": [],
   "source": [
    "sg = df.drop(df1.index, inplace=False)"
   ]
  },
  {
   "cell_type": "code",
   "execution_count": null,
   "metadata": {},
   "outputs": [],
   "source": [
    "sg = sg.drop(df2.index, inplace=False)\n",
    "sg = sg.drop(df3.index, inplace=False)\n",
    "sg = sg.drop(df4.index, inplace=False)\n",
    "sg = sg.drop(df5.index, inplace=False)\n",
    "sg = sg.drop(df6.index, inplace=False)\n",
    "sg = sg.drop(df7.index, inplace=False)\n",
    "sg = sg.drop(df8.index, inplace=False)\n",
    "sg = sg.drop(df9.index, inplace=False)\n",
    "sg = sg.drop(df10_1.index, inplace=False)\n",
    "sg = sg.drop(df10_2.index, inplace=False)"
   ]
  },
  {
   "cell_type": "code",
   "execution_count": null,
   "metadata": {},
   "outputs": [],
   "source": [
    "sg = sg.drop(df3_1.index, inplace=False)\n",
    "sg = sg.drop(df5_1.index, inplace=False)\n",
    "sg = sg.drop(ep1.index, inplace=False)\n",
    "sg = sg.drop(ep2.index, inplace=False)\n",
    "sg = sg.drop(ep3.index, inplace=False)\n",
    "sg = sg.drop(ep4.index, inplace=False)"
   ]
  },
  {
   "cell_type": "code",
   "execution_count": null,
   "metadata": {},
   "outputs": [],
   "source": [
    "# 수동으로 중복제거\n",
    "sg.drop([19, 140, 148, 212], inplace=True)\n",
    "sg"
   ]
  },
  {
   "cell_type": "code",
   "execution_count": null,
   "metadata": {},
   "outputs": [],
   "source": []
  },
  {
   "cell_type": "code",
   "execution_count": null,
   "metadata": {},
   "outputs": [],
   "source": []
  },
  {
   "attachments": {},
   "cell_type": "markdown",
   "metadata": {},
   "source": [
    "# 앨범별 가사 분석"
   ]
  },
  {
   "attachments": {},
   "cell_type": "markdown",
   "metadata": {},
   "source": [
    "## 함수 모음"
   ]
  },
  {
   "cell_type": "code",
   "execution_count": null,
   "metadata": {},
   "outputs": [],
   "source": [
    "# 원하는 곡의 가사 텍스트를 pos 분석 해주는 함수\n",
    "def target_song_text(title):\n",
    "    okt = Okt()\n",
    "    song = df[(df['제목'] == title)]\n",
    "    song_txt = ' '.join(song['가사'])\n",
    "    song_txt = song_txt.replace(\"\\r\\n\", \" \")\n",
    "    song_pos = okt.pos(song_txt)\n",
    "    return song_pos"
   ]
  },
  {
   "cell_type": "code",
   "execution_count": null,
   "metadata": {},
   "outputs": [],
   "source": [
    "# 가사 텍스트에서 pos 작업을 거쳐 품사별 단어 리스트 만드는 함수\n",
    "def find_pumsa(text, grammar):\n",
    "    okt = Okt()\n",
    "    tagged = okt.pos(text)\n",
    "\n",
    "    gram_list = []\n",
    "    \n",
    "    for tag in tagged:\n",
    "        if tag[1] == grammar:\n",
    "            gram_list.append(tag[0])\n",
    "    \n",
    "    return gram_list\n"
   ]
  },
  {
   "cell_type": "code",
   "execution_count": null,
   "metadata": {},
   "outputs": [],
   "source": [
    "# pos 작업 완료된 텍스트로 단어별 빈도수 담은 Counter 객체 리턴\n",
    "# ('단어', 빈도수(숫자)) 모음이 리턴됨\n",
    "def find_pumsa2(tagged, grammar):\n",
    "\n",
    "    gram_list = []\n",
    "    for tag in tagged:\n",
    "        if tag[1] == grammar:\n",
    "            gram_list.append(tag[0])\n",
    "\n",
    "    top_gram = collections.Counter(gram_list)\n",
    "    \n",
    "    return top_gram"
   ]
  },
  {
   "cell_type": "code",
   "execution_count": null,
   "metadata": {},
   "outputs": [],
   "source": [
    "# 품사별 Counter 객체로 원하는 단어의 빈도수 뽑는 함수\n",
    "def count_words(target, words):\n",
    "    for word in words:\n",
    "        if word[0] == target:\n",
    "            return word[1]"
   ]
  },
  {
   "cell_type": "code",
   "execution_count": null,
   "metadata": {},
   "outputs": [],
   "source": [
    "# 품사별 Counter 객체로 원하는 단어의 빈도수, 빈도수 순위, 빈도수 순위의 상위 n% 비율 뽑는 함수\n",
    "def count_and_rank(target, words):\n",
    "    for i in range(len(words)):\n",
    "        if words[i][0] == target:\n",
    "            # return i+1, \"등\", words[i][1], \"개\"\n",
    "            return f\"{i+1}등, {words[i][1]}회, 상위 {round(((i+1) / len(words))*100, 2)}%\""
   ]
  },
  {
   "cell_type": "code",
   "execution_count": null,
   "metadata": {},
   "outputs": [],
   "source": []
  },
  {
   "attachments": {},
   "cell_type": "markdown",
   "metadata": {},
   "source": [
    "# 참여진 분석"
   ]
  },
  {
   "cell_type": "code",
   "execution_count": null,
   "metadata": {},
   "outputs": [],
   "source": [
    "# 제목에서 피쳐링 뽑기가 빠름. 참여진 기록은 2010년대 이후 한정으로 진행하기\n",
    "# df['작사가'].unique() df['제목'].unique() 이런 식으로 진행됨"
   ]
  }
 ],
 "metadata": {
  "kernelspec": {
   "display_name": "Python 3",
   "language": "python",
   "name": "python3"
  },
  "language_info": {
   "name": "python",
   "version": "3.9.13 (tags/v3.9.13:6de2ca5, May 17 2022, 16:36:42) [MSC v.1929 64 bit (AMD64)]"
  },
  "orig_nbformat": 4,
  "vscode": {
   "interpreter": {
    "hash": "6dcd3f2450a41f14c89cb71aa3bb6f377e2091474576a3bb8e793dfc8fd66312"
   }
  }
 },
 "nbformat": 4,
 "nbformat_minor": 2
}
