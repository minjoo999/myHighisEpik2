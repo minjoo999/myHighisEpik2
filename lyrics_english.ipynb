{
 "cells": [
  {
   "attachments": {},
   "cell_type": "markdown",
   "metadata": {},
   "source": [
    "# 패키지, 파일 불러오기"
   ]
  },
  {
   "cell_type": "code",
   "execution_count": null,
   "metadata": {},
   "outputs": [],
   "source": [
    "from nltk.tokenize import word_tokenize\n",
    "\n",
    "# token1 = word_tokenize()\n",
    "\n",
    "# token1\n",
    "# # token1[0]\n",
    "\n",
    "# for i in range(0, 10):\n",
    "#     print(token1[i])\n",
    "\n",
    "# tensorflow도 사용 예정"
   ]
  }
 ],
 "metadata": {
  "kernelspec": {
   "display_name": "Python 3",
   "language": "python",
   "name": "python3"
  },
  "language_info": {
   "name": "python",
   "version": "3.9.13 (tags/v3.9.13:6de2ca5, May 17 2022, 16:36:42) [MSC v.1929 64 bit (AMD64)]"
  },
  "orig_nbformat": 4,
  "vscode": {
   "interpreter": {
    "hash": "6dcd3f2450a41f14c89cb71aa3bb6f377e2091474576a3bb8e793dfc8fd66312"
   }
  }
 },
 "nbformat": 4,
 "nbformat_minor": 2
}
