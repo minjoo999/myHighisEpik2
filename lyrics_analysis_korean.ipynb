{
 "cells": [
  {
   "attachments": {},
   "cell_type": "markdown",
   "metadata": {},
   "source": [
    "# 패키지, 파일 불러오기"
   ]
  },
  {
   "cell_type": "code",
   "execution_count": 109,
   "metadata": {},
   "outputs": [],
   "source": [
    "import numpy as np\n",
    "import pandas as pd\n",
    "from konlpy.tag import Okt\n",
    "import collections"
   ]
  },
  {
   "cell_type": "code",
   "execution_count": 110,
   "metadata": {},
   "outputs": [],
   "source": [
    "df = pd.read_csv('tracks_final.csv')"
   ]
  },
  {
   "cell_type": "code",
   "execution_count": 111,
   "metadata": {},
   "outputs": [],
   "source": [
    "with open(\"가사.txt\", \"r\", encoding=\"utf-8\") as f:\n",
    "    lyrics = f.read()\n"
   ]
  },
  {
   "attachments": {},
   "cell_type": "markdown",
   "metadata": {},
   "source": [
    "# koNLPy로 가사 단어 tokenize"
   ]
  },
  {
   "cell_type": "code",
   "execution_count": 112,
   "metadata": {},
   "outputs": [],
   "source": [
    "okt = Okt()\n",
    "\n",
    "k_nouns = okt.nouns(lyrics)\n",
    "k_top_nouns = collections.Counter(k_nouns)\n",
    "# k_top_nouns.most_common()"
   ]
  },
  {
   "cell_type": "code",
   "execution_count": 113,
   "metadata": {},
   "outputs": [],
   "source": [
    "morph = okt.morphs(lyrics)\n",
    "pumsa = okt.pos(lyrics)"
   ]
  },
  {
   "cell_type": "code",
   "execution_count": 114,
   "metadata": {},
   "outputs": [
    {
     "data": {
      "text/plain": [
       "list"
      ]
     },
     "execution_count": 114,
     "metadata": {},
     "output_type": "execute_result"
    }
   ],
   "source": [
    "type(pumsa)"
   ]
  },
  {
   "cell_type": "code",
   "execution_count": 115,
   "metadata": {},
   "outputs": [
    {
     "data": {
      "text/plain": [
       "tuple"
      ]
     },
     "execution_count": 115,
     "metadata": {},
     "output_type": "execute_result"
    }
   ],
   "source": [
    "type(pumsa[0])"
   ]
  },
  {
   "cell_type": "code",
   "execution_count": 116,
   "metadata": {},
   "outputs": [
    {
     "data": {
      "text/plain": [
       "('우리', 'Noun')"
      ]
     },
     "execution_count": 116,
     "metadata": {},
     "output_type": "execute_result"
    }
   ],
   "source": [
    "pumsa[0]"
   ]
  },
  {
   "cell_type": "code",
   "execution_count": 117,
   "metadata": {},
   "outputs": [
    {
     "data": {
      "text/plain": [
       "'우리'"
      ]
     },
     "execution_count": 117,
     "metadata": {},
     "output_type": "execute_result"
    }
   ],
   "source": [
    "pumsa[0][0]"
   ]
  },
  {
   "cell_type": "code",
   "execution_count": 118,
   "metadata": {},
   "outputs": [],
   "source": [
    "# 품사 종류 파악\n",
    "gra = []\n",
    "for pum in pumsa:\n",
    "    gra.append(pum[1])"
   ]
  },
  {
   "cell_type": "code",
   "execution_count": 119,
   "metadata": {},
   "outputs": [
    {
     "data": {
      "text/plain": [
       "{'Adjective',\n",
       " 'Adverb',\n",
       " 'Alpha',\n",
       " 'Conjunction',\n",
       " 'Determiner',\n",
       " 'Eomi',\n",
       " 'Exclamation',\n",
       " 'Foreign',\n",
       " 'Hashtag',\n",
       " 'Josa',\n",
       " 'KoreanParticle',\n",
       " 'Modifier',\n",
       " 'Noun',\n",
       " 'Number',\n",
       " 'Punctuation',\n",
       " 'Suffix',\n",
       " 'URL',\n",
       " 'Verb',\n",
       " 'VerbPrefix'}"
      ]
     },
     "execution_count": 119,
     "metadata": {},
     "output_type": "execute_result"
    }
   ],
   "source": [
    "set(gra)"
   ]
  },
  {
   "attachments": {},
   "cell_type": "markdown",
   "metadata": {},
   "source": [
    "# 함수 모음"
   ]
  },
  {
   "cell_type": "code",
   "execution_count": 120,
   "metadata": {},
   "outputs": [],
   "source": [
    "# 가사 텍스트에서 pos 작업을 거쳐 품사별 단어 리스트 만드는 함수\n",
    "def find_pumsa(text, grammar):\n",
    "    okt = Okt()\n",
    "    tagged = okt.pos(text)\n",
    "\n",
    "    gram_list = []\n",
    "    \n",
    "    for tag in tagged:\n",
    "        if tag[1] == grammar:\n",
    "            gram_list.append(tag[0])\n",
    "    \n",
    "    return gram_list\n"
   ]
  },
  {
   "cell_type": "code",
   "execution_count": 121,
   "metadata": {},
   "outputs": [],
   "source": [
    "# pos 작업 완료된 텍스트로 단어별 빈도수 담은 Counter 객체 리턴\n",
    "# ('단어', 빈도수(숫자)) 모음이 리턴됨\n",
    "def find_pumsa2(tagged, grammar):\n",
    "\n",
    "    gram_list = []\n",
    "    for tag in tagged:\n",
    "        if tag[1] == grammar:\n",
    "            gram_list.append(tag[0])\n",
    "\n",
    "    top_gram = collections.Counter(gram_list)\n",
    "    top_gram = top_gram.most_common()\n",
    "    \n",
    "    return top_gram"
   ]
  },
  {
   "cell_type": "code",
   "execution_count": 122,
   "metadata": {},
   "outputs": [],
   "source": [
    "# 품사별 Counter 객체로 원하는 단어의 빈도수 뽑는 함수\n",
    "def count_words(target, words):\n",
    "    for word in words:\n",
    "        if word[0] == target:\n",
    "            return word[1]"
   ]
  },
  {
   "cell_type": "code",
   "execution_count": 123,
   "metadata": {},
   "outputs": [],
   "source": [
    "# 품사별 Counter 객체로 원하는 단어의 빈도수, 빈도수 순위, 빈도수 순위의 상위 n% 비율 뽑는 함수\n",
    "def count_and_rank(target, words):\n",
    "    for i in range(len(words)):\n",
    "        if words[i][0] == target:\n",
    "            # return i+1, \"등\", words[i][1], \"개\"\n",
    "            return f\"{target}: {i+1}등, {words[i][1]}회, 상위 {round(((i+1) / len(words))*100, 2)}%\""
   ]
  },
  {
   "cell_type": "code",
   "execution_count": 124,
   "metadata": {},
   "outputs": [],
   "source": [
    "# 리스트 단위로 단어를 삽입하는 함수\n",
    "def list_count_and_rank(word_list, words):\n",
    "    for word in word_list:\n",
    "        print(count_and_rank(word, words)) "
   ]
  },
  {
   "cell_type": "code",
   "execution_count": 125,
   "metadata": {},
   "outputs": [],
   "source": [
    "# 원하는 곡의 가사 텍스트를 pos 분석 해주는 함수\n",
    "def target_song_text(title):\n",
    "    okt = Okt()\n",
    "    song = df[(df['제목'] == title)]\n",
    "    song_txt = ' '.join(song['가사'])\n",
    "    song_txt = song_txt.replace(\"\\r\\n\", \" \")\n",
    "    song_pos = okt.pos(song_txt)\n",
    "    return song_pos"
   ]
  },
  {
   "attachments": {},
   "cell_type": "markdown",
   "metadata": {},
   "source": [
    "# 품사별 단어 등장횟수 뽑기"
   ]
  },
  {
   "attachments": {},
   "cell_type": "markdown",
   "metadata": {},
   "source": [
    "## 품사별 pos 적용 (find_pumsa2)"
   ]
  },
  {
   "cell_type": "code",
   "execution_count": 126,
   "metadata": {},
   "outputs": [],
   "source": [
    "k_nouns = find_pumsa2(pumsa, 'Noun')\n",
    "k_adj = find_pumsa2(pumsa, 'Adjective')\n",
    "k_adv = find_pumsa2(pumsa, 'Adverb')\n",
    "k_alpha = find_pumsa2(pumsa, 'Alpha')\n",
    "k_conj = find_pumsa2(pumsa, 'Conjunction')\n",
    "k_verb = find_pumsa2(pumsa, 'Verb')\n",
    "k_excla = find_pumsa2(pumsa, 'Exclamation')\n",
    "k_for = find_pumsa2(pumsa, 'Foreign')"
   ]
  },
  {
   "cell_type": "code",
   "execution_count": null,
   "metadata": {},
   "outputs": [],
   "source": []
  },
  {
   "attachments": {},
   "cell_type": "markdown",
   "metadata": {},
   "source": [
    "## 내가 찾고 싶은 단어"
   ]
  },
  {
   "cell_type": "code",
   "execution_count": 127,
   "metadata": {},
   "outputs": [
    {
     "name": "stdout",
     "output_type": "stream",
     "text": [
      "술: 62등, 70회, 상위 1.32%\n",
      "담배: 201등, 24회, 상위 4.28%\n",
      "커피: 450등, 11회, 상위 9.59%\n"
     ]
    }
   ],
   "source": [
    "# 술, 담배, 커피\n",
    "words_list = ['술', '담배', '커피']\n",
    "for word in words_list:\n",
    "    print(count_and_rank(word, k_nouns))"
   ]
  },
  {
   "cell_type": "code",
   "execution_count": 128,
   "metadata": {},
   "outputs": [
    {
     "name": "stdout",
     "output_type": "stream",
     "text": [
      "coffee: 3164등, 1회, 상위 98.91%\n",
      "Coffee: 536등, 7회, 상위 16.76%\n"
     ]
    }
   ],
   "source": [
    "print(count_and_rank('coffee', k_alpha))\n",
    "print(count_and_rank('Coffee', k_alpha))"
   ]
  },
  {
   "cell_type": "code",
   "execution_count": 129,
   "metadata": {},
   "outputs": [
    {
     "name": "stdout",
     "output_type": "stream",
     "text": [
      "fuck: 98등, 41회, 상위 3.06%\n",
      "Fuck: 639등, 5회, 상위 19.97%\n",
      "None\n",
      "None\n",
      "None\n",
      "None\n",
      "None\n"
     ]
    }
   ],
   "source": [
    "# 욕설\n",
    "mine1 = ['fuck', 'Fuck', 'fucking', \"fuckin'\", \"fxxkin'\", 'fxxk', 'Fxxk']\n",
    "list_count_and_rank(mine1, k_alpha)"
   ]
  },
  {
   "cell_type": "code",
   "execution_count": 130,
   "metadata": {},
   "outputs": [
    {
     "name": "stdout",
     "output_type": "stream",
     "text": [
      "돈: 63등, 70회, 상위 1.34%\n",
      "None\n",
      "money: 440등, 9회, 상위 13.75%\n",
      "None\n"
     ]
    }
   ],
   "source": [
    "# 돈\n",
    "print(count_and_rank('돈', k_nouns))\n",
    "\n",
    "mine2 = ['Money', 'money', 'MONEY']\n",
    "list_count_and_rank(mine2, k_alpha)"
   ]
  },
  {
   "cell_type": "code",
   "execution_count": 131,
   "metadata": {},
   "outputs": [
    {
     "name": "stdout",
     "output_type": "stream",
     "text": [
      "사람: 48등, 86회, 상위 1.02%\n",
      "남자: 125등, 38회, 상위 2.66%\n",
      "여자: 301등, 16회, 상위 6.41%\n",
      "human: 484등, 8회, 상위 15.13%\n",
      "None\n",
      "man: 102등, 39회, 상위 3.19%\n",
      "Man: 392등, 10회, 상위 12.25%\n",
      "men: 2513등, 1회, 상위 78.56%\n",
      "None\n",
      "None\n",
      "None\n",
      "None\n",
      "None\n"
     ]
    }
   ],
   "source": [
    "# 사람\n",
    "mine3 = ['사람', '남자', '여자']\n",
    "mine4 = ['human', 'Human', 'man', 'Man', 'men', 'Men', 'woman', 'Woman', 'women', 'Women']\n",
    "list_count_and_rank(mine3, k_nouns)\n",
    "list_count_and_rank(mine4, k_alpha)"
   ]
  },
  {
   "cell_type": "code",
   "execution_count": 132,
   "metadata": {},
   "outputs": [],
   "source": [
    "for i in pumsa:\n",
    "    if i[0] == '외롭':\n",
    "        print(i)"
   ]
  },
  {
   "cell_type": "code",
   "execution_count": 133,
   "metadata": {},
   "outputs": [
    {
     "name": "stdout",
     "output_type": "stream",
     "text": [
      "춥다: 337등, 14회, 상위 7.18%\n",
      "외로움: 419등, 11회, 상위 8.93%\n"
     ]
    }
   ],
   "source": [
    "# 춥다, 외롭다\n",
    "print(count_and_rank('춥다', k_nouns))\n",
    "print(count_and_rank('외로움', k_nouns))"
   ]
  },
  {
   "cell_type": "code",
   "execution_count": 134,
   "metadata": {},
   "outputs": [
    {
     "data": {
      "text/plain": [
       "'구원: 182등, 28회, 상위 3.88%'"
      ]
     },
     "execution_count": 134,
     "metadata": {},
     "output_type": "execute_result"
    }
   ],
   "source": [
    "count_and_rank('구원', k_nouns)"
   ]
  },
  {
   "cell_type": "code",
   "execution_count": 135,
   "metadata": {},
   "outputs": [
    {
     "data": {
      "text/plain": [
       "'이별: 128등, 36회, 상위 2.73%'"
      ]
     },
     "execution_count": 135,
     "metadata": {},
     "output_type": "execute_result"
    }
   ],
   "source": [
    "count_and_rank('이별', k_nouns)"
   ]
  },
  {
   "cell_type": "code",
   "execution_count": 136,
   "metadata": {},
   "outputs": [
    {
     "data": {
      "text/plain": [
       "'눈: 14등, 193회, 상위 0.3%'"
      ]
     },
     "execution_count": 136,
     "metadata": {},
     "output_type": "execute_result"
    }
   ],
   "source": [
    "count_and_rank('눈', k_nouns)"
   ]
  },
  {
   "attachments": {},
   "cell_type": "markdown",
   "metadata": {},
   "source": [
    "## 신청 받은 단어"
   ]
  },
  {
   "cell_type": "code",
   "execution_count": 137,
   "metadata": {},
   "outputs": [
    {
     "name": "stdout",
     "output_type": "stream",
     "text": [
      "love: 17등, 179회, 상위 0.53%\n",
      "Love: 38등, 108회, 상위 1.19%\n",
      "사랑: 7등, 289회, 상위 0.15%\n"
     ]
    }
   ],
   "source": [
    "# 사랑\n",
    "print(count_and_rank('love', k_alpha))\n",
    "print(count_and_rank('Love', k_alpha))\n",
    "print(count_and_rank(\"사랑\", k_nouns))"
   ]
  },
  {
   "cell_type": "code",
   "execution_count": 138,
   "metadata": {},
   "outputs": [
    {
     "name": "stdout",
     "output_type": "stream",
     "text": [
      "번뇌: 4064등, 1회, 상위 86.58%\n",
      "독백: 1578등, 3회, 상위 33.62%\n",
      "고뇌: 2068등, 2회, 상위 44.06%\n",
      "타인: 657등, 7회, 상위 14.0%\n"
     ]
    }
   ],
   "source": [
    "# 번뇌, 독백, 고뇌, 타인\n",
    "req1 = ['번뇌', '독백', '고뇌', '타인']\n",
    "list_count_and_rank(req1, k_nouns)"
   ]
  },
  {
   "cell_type": "code",
   "execution_count": 139,
   "metadata": {},
   "outputs": [
    {
     "name": "stdout",
     "output_type": "stream",
     "text": [
      "너: 3등, 473회, 상위 0.06%\n",
      "넌: 18등, 167회, 상위 0.38%\n",
      "그대: 20등, 152회, 상위 0.43%\n",
      "사람: 48등, 86회, 상위 1.02%\n"
     ]
    }
   ],
   "source": [
    "# 너, 넌, 그대, 사람\n",
    "req1_1 = ['너', '넌', '그대', '사람']\n",
    "list_count_and_rank(req1_1, k_nouns)"
   ]
  },
  {
   "cell_type": "code",
   "execution_count": 140,
   "metadata": {},
   "outputs": [
    {
     "data": {
      "text/plain": [
       "'우리: 36등, 102회, 상위 0.77%'"
      ]
     },
     "execution_count": 140,
     "metadata": {},
     "output_type": "execute_result"
    }
   ],
   "source": [
    "# 우리\n",
    "count_and_rank('우리', k_nouns)"
   ]
  },
  {
   "cell_type": "code",
   "execution_count": 141,
   "metadata": {},
   "outputs": [
    {
     "name": "stdout",
     "output_type": "stream",
     "text": [
      "그대: 20등, 152회, 상위 0.43%\n",
      "밤: 26등, 128회, 상위 0.55%\n",
      "죄: 146등, 33회, 상위 3.11%\n",
      "숨: 29등, 117회, 상위 0.62%\n",
      "손: 15등, 179회, 상위 0.32%\n",
      "심장: 72등, 62회, 상위 1.53%\n",
      "도시: 80등, 56회, 상위 1.7%\n",
      "세상: 10등, 256회, 상위 0.21%\n"
     ]
    }
   ],
   "source": [
    "# 그대, 밤, 죄, 숨, 손, 심장, 도시, 세상\n",
    "req2 = ['그대', '밤', '죄', '숨', '손', '심장', '도시', '세상']\n",
    "list_count_and_rank(req2, k_nouns)"
   ]
  },
  {
   "cell_type": "code",
   "execution_count": 142,
   "metadata": {},
   "outputs": [
    {
     "data": {
      "text/plain": [
       "'당신: 74등, 60회, 상위 1.58%'"
      ]
     },
     "execution_count": 142,
     "metadata": {},
     "output_type": "execute_result"
    }
   ],
   "source": [
    "# 당신\n",
    "count_and_rank('당신', k_nouns)"
   ]
  },
  {
   "cell_type": "code",
   "execution_count": 143,
   "metadata": {},
   "outputs": [
    {
     "name": "stdout",
     "output_type": "stream",
     "text": [
      "Epik: 92등, 44회, 상위 2.88%\n",
      "epik: 283등, 16회, 상위 8.85%\n",
      "EPIK: 657등, 5회, 상위 20.54%\n",
      "None\n",
      "epic: 1600등, 2회, 상위 50.02%\n",
      "None\n",
      "High: 85등, 48회, 상위 2.66%\n",
      "high: 32등, 127회, 상위 1.0%\n",
      "HIGH: 2314등, 1회, 상위 72.34%\n",
      "-------\n",
      "에픽: 319등, 15회, 상위 6.8%\n",
      "None\n",
      "에픽하이: 591등, 8회, 상위 12.59%\n"
     ]
    }
   ],
   "source": [
    "# epik, high\n",
    "req3 = ['Epik', 'epik', 'EPIK', 'Epic', 'epic', 'EPIC', 'High', 'high', 'HIGH']\n",
    "req3_1 = ['에픽', '하이', '에픽하이']\n",
    "list_count_and_rank(req3, k_alpha)\n",
    "print(\"-------\")\n",
    "list_count_and_rank(req3_1, k_nouns)"
   ]
  },
  {
   "cell_type": "code",
   "execution_count": 144,
   "metadata": {},
   "outputs": [
    {
     "name": "stdout",
     "output_type": "stream",
     "text": [
      "죽음: 294등, 17회, 상위 6.26%\n",
      "죽: 423등, 11회, 상위 9.01%\n",
      "None\n",
      "죽다: 2403등, 1회, 상위 63.17%\n",
      "None\n",
      "None\n"
     ]
    }
   ],
   "source": [
    "# 죽음 관련 단어\n",
    "print(count_and_rank('죽음', k_nouns))\n",
    "print(count_and_rank('죽', k_nouns))\n",
    "print(count_and_rank('죽', k_verb))\n",
    "print(count_and_rank('죽다', k_verb))\n",
    "print(count_and_rank('죽', k_adv))\n",
    "print(count_and_rank('죽', k_adj))"
   ]
  },
  {
   "cell_type": "code",
   "execution_count": 145,
   "metadata": {},
   "outputs": [
    {
     "name": "stdout",
     "output_type": "stream",
     "text": [
      "Soul: 569등, 6회, 상위 17.79%\n",
      "soul: 95등, 44회, 상위 2.97%\n",
      "None\n"
     ]
    }
   ],
   "source": [
    "# Soul\n",
    "req4 = ['Soul', 'soul', 'SOUL']\n",
    "list_count_and_rank(req4, k_alpha)"
   ]
  },
  {
   "cell_type": "code",
   "execution_count": 146,
   "metadata": {},
   "outputs": [
    {
     "data": {
      "text/plain": [
       "'Motherfucker: 1622등, 1회, 상위 50.7%'"
      ]
     },
     "execution_count": 146,
     "metadata": {},
     "output_type": "execute_result"
    }
   ],
   "source": [
    "count_and_rank(\"Motherfucker\", k_alpha)"
   ]
  },
  {
   "cell_type": "code",
   "execution_count": 147,
   "metadata": {},
   "outputs": [
    {
     "data": {
      "text/plain": [
       "'날개: 67등, 66회, 상위 1.43%'"
      ]
     },
     "execution_count": 147,
     "metadata": {},
     "output_type": "execute_result"
    }
   ],
   "source": [
    "count_and_rank(\"날개\", k_nouns)"
   ]
  },
  {
   "cell_type": "code",
   "execution_count": 148,
   "metadata": {},
   "outputs": [
    {
     "name": "stdout",
     "output_type": "stream",
     "text": [
      "꿈: 16등, 170회, 상위 0.34%\n",
      "운명: 177등, 28회, 상위 3.77%\n",
      "포기: 240등, 20회, 상위 5.11%\n",
      "--------\n",
      "love: 17등, 179회, 상위 0.53%\n",
      "Love: 38등, 108회, 상위 1.19%\n",
      "destiny: 1202등, 2회, 상위 37.57%\n",
      "Destiny: 112등, 36회, 상위 3.5%\n",
      "dream: 461등, 8회, 상위 14.41%\n",
      "Dream: 1896등, 1회, 상위 59.27%\n"
     ]
    }
   ],
   "source": [
    "# 꿈, Love, 운명, 포기\n",
    "req5_1 = ['꿈', '운명', '포기']\n",
    "req5_2 = ['love', 'Love', 'destiny', 'Destiny', 'dream', 'Dream']\n",
    "list_count_and_rank(req5_1, k_nouns)\n",
    "print(\"--------\")\n",
    "list_count_and_rank(req5_2, k_alpha)"
   ]
  },
  {
   "attachments": {},
   "cell_type": "markdown",
   "metadata": {},
   "source": [
    "## 원하는 곡별 텍스트 분석"
   ]
  },
  {
   "cell_type": "code",
   "execution_count": 149,
   "metadata": {},
   "outputs": [],
   "source": [
    "love_song = target_song_text(\"Love Love Love (Feat. Yoong Jin of Casker))\")"
   ]
  },
  {
   "cell_type": "code",
   "execution_count": null,
   "metadata": {},
   "outputs": [],
   "source": []
  },
  {
   "attachments": {},
   "cell_type": "markdown",
   "metadata": {},
   "source": [
    "# 품사별 단어 경향성 분석"
   ]
  },
  {
   "cell_type": "code",
   "execution_count": 150,
   "metadata": {},
   "outputs": [
    {
     "name": "stdout",
     "output_type": "stream",
     "text": [
      "명사 전체: 4694개\n",
      "1회만 등장: 2345개, 전체 중 49.96%\n"
     ]
    }
   ],
   "source": [
    "# 1회만 등장하는 단어의 갯수와 비중은?\n",
    "nouns = []\n",
    "print(f\"명사 전체: {len(k_nouns)}개\")\n",
    "\n",
    "for noun in k_nouns:\n",
    "    if noun[1] == 1:\n",
    "        nouns.append(noun[0])\n",
    "print(f\"1회만 등장: {len(nouns)}개, 전체 중 {round((len(nouns) / len(k_nouns))*100, 2)}%\")"
   ]
  },
  {
   "cell_type": "code",
   "execution_count": 151,
   "metadata": {},
   "outputs": [
    {
     "data": {
      "text/plain": [
       "('내', 982)"
      ]
     },
     "execution_count": 151,
     "metadata": {},
     "output_type": "execute_result"
    }
   ],
   "source": [
    "k_nouns[0]"
   ]
  },
  {
   "cell_type": "code",
   "execution_count": 152,
   "metadata": {},
   "outputs": [],
   "source": [
    "# 수가 같은 경우는 어떻게 하지...?\n",
    "# 등장횟수 같은 것들끼리 전부 묶어보기\n",
    "counts = []\n",
    "for noun in k_nouns:\n",
    "    counts.append(noun[1])"
   ]
  },
  {
   "cell_type": "code",
   "execution_count": 153,
   "metadata": {},
   "outputs": [
    {
     "name": "stdout",
     "output_type": "stream",
     "text": [
      "상위 10% 컷: 10회 등장까지\n"
     ]
    }
   ],
   "source": [
    "# 상위 10% 컷은 몇 차례 등장, 상위 5% 컷은 몇 차례 등장인지 같은 거 뽑아보기\n",
    "for i in range(len(k_nouns)):\n",
    "    if (i / len(k_nouns))*100 > 10:\n",
    "        print(f\"상위 10% 컷: {k_nouns[i][1]}회 등장까지\")\n",
    "        break"
   ]
  },
  {
   "cell_type": "code",
   "execution_count": 154,
   "metadata": {},
   "outputs": [
    {
     "name": "stdout",
     "output_type": "stream",
     "text": [
      "상위 5% 컷: 21회 등장까지\n"
     ]
    }
   ],
   "source": [
    "for i in range(len(k_nouns)):\n",
    "    if (i / len(k_nouns))*100 > 5:\n",
    "        print(f\"상위 5% 컷: {k_nouns[i][1]}회 등장까지\")\n",
    "        break"
   ]
  },
  {
   "cell_type": "code",
   "execution_count": null,
   "metadata": {},
   "outputs": [],
   "source": []
  },
  {
   "attachments": {},
   "cell_type": "markdown",
   "metadata": {},
   "source": [
    "# TMI"
   ]
  },
  {
   "attachments": {},
   "cell_type": "markdown",
   "metadata": {},
   "source": [
    "## 19금"
   ]
  },
  {
   "cell_type": "code",
   "execution_count": 155,
   "metadata": {},
   "outputs": [],
   "source": [
    "pa = []\n",
    "for i in df['제목']:\n",
    "    if i[:3] == '19금':\n",
    "        pa.append(i)"
   ]
  },
  {
   "cell_type": "code",
   "execution_count": 156,
   "metadata": {},
   "outputs": [
    {
     "data": {
      "text/plain": [
       "'그래서 그래 (Feat. 윤하)'"
      ]
     },
     "execution_count": 156,
     "metadata": {},
     "output_type": "execute_result"
    }
   ],
   "source": [
    "df.loc[1]['제목']"
   ]
  },
  {
   "cell_type": "code",
   "execution_count": 157,
   "metadata": {},
   "outputs": [
    {
     "data": {
      "text/plain": [
       "'그래서'"
      ]
     },
     "execution_count": 157,
     "metadata": {},
     "output_type": "execute_result"
    }
   ],
   "source": [
    "df.loc[1]['제목'][:3]"
   ]
  },
  {
   "cell_type": "code",
   "execution_count": 158,
   "metadata": {},
   "outputs": [],
   "source": [
    "titles = []\n",
    "\n",
    "for i in range(len(df)):\n",
    "    if df.loc[i]['제목'][:3] == '19금':\n",
    "        titles.append(df.loc[i])\n"
   ]
  },
  {
   "cell_type": "code",
   "execution_count": 159,
   "metadata": {},
   "outputs": [
    {
     "data": {
      "text/plain": [
       "'19금 노땡큐 (Feat. MINO & 사이먼 도미닉 & 더콰이엇)'"
      ]
     },
     "execution_count": 159,
     "metadata": {},
     "output_type": "execute_result"
    }
   ],
   "source": [
    "pa[0]"
   ]
  },
  {
   "cell_type": "code",
   "execution_count": 160,
   "metadata": {},
   "outputs": [
    {
     "data": {
      "text/plain": [
       "23"
      ]
     },
     "execution_count": 160,
     "metadata": {},
     "output_type": "execute_result"
    }
   ],
   "source": [
    "len(pa)"
   ]
  },
  {
   "cell_type": "code",
   "execution_count": 161,
   "metadata": {},
   "outputs": [],
   "source": [
    "pa1 = pd.concat(titles)\n",
    "# print(pa1)"
   ]
  },
  {
   "cell_type": "code",
   "execution_count": 162,
   "metadata": {},
   "outputs": [
    {
     "data": {
      "text/plain": [
       "array(['19금 노땡큐 (Feat. MINO & 사이먼 도미닉 & 더콰이엇)',\n",
       "       '19금 BORN HATER (Feat. 빈지노 & 버벌진트 & B.I & MINO & BOBBY)',\n",
       "       '19금 Rosario (Feat. CL & ZICO)', '19금 정당방위 (Feat. 우원재 & 넉살 & 창모)',\n",
       "       '19금 8 By 8, Part 2 (Bonus Track) (Feat. MYK, Minos, Paloalto, The Quiett, Verbal Jint, Kebee, E-Sens, Simon Dominic)',\n",
       "       '19금 Mr. Doctor', '19금 피해망상 Pt.3 With TBNY', '19금 Flow',\n",
       "       '19금 흉 (Feat. MYK & YDG & Dok2)', '19금 뒷담화',\n",
       "       '19금 Rocksteady (Feat. Paloalto & Dok2 & Beatbox DG & Beenzino) (Korean Ver.)',\n",
       "       '19금 FAQ', '19금 말로맨',\n",
       "       '19금 Rocksteady (Feat. Kero One & Dumbfoundead & MYK & Rakka (Dilated Peoples))',\n",
       "       '19금 Supreme 100', '19금 B-side 01: Breakdown (Supreme Mix)',\n",
       "       '19금 Still Here (Feat. Dok2)',\n",
       "       '19금 B-Side 01 : Breakdown (Supreme mix)', '19금 Butterfly Effect',\n",
       "       '19금 신사들의 몰락 (Good Evening)', '19금 신사들의 절약정신 (Good Afternoon)',\n",
       "       '19금 Eight By Eight (Feat. Dynamic Duo, Dok2, Double K, TBNY)',\n",
       "       '19금 The Future (Feat. Yankie)'], dtype=object)"
      ]
     },
     "execution_count": 162,
     "metadata": {},
     "output_type": "execute_result"
    }
   ],
   "source": [
    "pa1['제목'].unique()"
   ]
  },
  {
   "cell_type": "code",
   "execution_count": 163,
   "metadata": {},
   "outputs": [
    {
     "data": {
      "text/plain": [
       "23"
      ]
     },
     "execution_count": 163,
     "metadata": {},
     "output_type": "execute_result"
    }
   ],
   "source": [
    "len(pa)"
   ]
  },
  {
   "cell_type": "markdown",
   "metadata": {},
   "source": []
  }
 ],
 "metadata": {
  "kernelspec": {
   "display_name": "Python 3",
   "language": "python",
   "name": "python3"
  },
  "language_info": {
   "codemirror_mode": {
    "name": "ipython",
    "version": 3
   },
   "file_extension": ".py",
   "mimetype": "text/x-python",
   "name": "python",
   "nbconvert_exporter": "python",
   "pygments_lexer": "ipython3",
   "version": "3.9.13"
  },
  "orig_nbformat": 4,
  "vscode": {
   "interpreter": {
    "hash": "6dcd3f2450a41f14c89cb71aa3bb6f377e2091474576a3bb8e793dfc8fd66312"
   }
  }
 },
 "nbformat": 4,
 "nbformat_minor": 2
}
